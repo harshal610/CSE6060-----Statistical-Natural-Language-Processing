{
 "cells": [
  {
   "cell_type": "raw",
   "metadata": {},
   "source": [
    "Name : Harshal Patel\n",
    "Reg. No.: 19MAI0032"
   ]
  },
  {
   "cell_type": "markdown",
   "metadata": {},
   "source": [
    "# Embedding"
   ]
  },
  {
   "cell_type": "code",
   "execution_count": 1,
   "metadata": {},
   "outputs": [],
   "source": [
    "from gensim.models import Word2Vec\n",
    "from nltk.corpus import brown, treebank"
   ]
  },
  {
   "cell_type": "code",
   "execution_count": 2,
   "metadata": {},
   "outputs": [],
   "source": [
    "b = Word2Vec(brown.sents())\n",
    "t = Word2Vec(treebank.sents())"
   ]
  },
  {
   "cell_type": "code",
   "execution_count": 3,
   "metadata": {},
   "outputs": [
    {
     "name": "stderr",
     "output_type": "stream",
     "text": [
      "c:\\users\\harshal patel\\appdata\\local\\programs\\python\\python37\\lib\\site-packages\\ipykernel_launcher.py:1: DeprecationWarning: Call to deprecated `most_similar` (Method will be removed in 4.0.0, use self.wv.most_similar() instead).\n",
      "  \"\"\"Entry point for launching an IPython kernel.\n"
     ]
    },
    {
     "data": {
      "text/plain": [
       "[('getting', 0.9197693467140198),\n",
       " ('chance', 0.9111344814300537),\n",
       " ('money', 0.9073659181594849),\n",
       " ('done', 0.9069548845291138),\n",
       " ('truth', 0.904726505279541)]"
      ]
     },
     "execution_count": 3,
     "metadata": {},
     "output_type": "execute_result"
    }
   ],
   "source": [
    "b.most_similar('trouble', topn=5)"
   ]
  },
  {
   "cell_type": "code",
   "execution_count": 4,
   "metadata": {},
   "outputs": [
    {
     "name": "stderr",
     "output_type": "stream",
     "text": [
      "c:\\users\\harshal patel\\appdata\\local\\programs\\python\\python37\\lib\\site-packages\\ipykernel_launcher.py:1: DeprecationWarning: Call to deprecated `most_similar` (Method will be removed in 4.0.0, use self.wv.most_similar() instead).\n",
      "  \"\"\"Entry point for launching an IPython kernel.\n"
     ]
    },
    {
     "data": {
      "text/plain": [
       "[('USX', 0.9983331561088562),\n",
       " ('her', 0.9982926845550537),\n",
       " ('only', 0.9982684254646301),\n",
       " ('own', 0.9982447028160095),\n",
       " ('department', 0.9982430934906006)]"
      ]
     },
     "execution_count": 4,
     "metadata": {},
     "output_type": "execute_result"
    }
   ],
   "source": [
    "t.most_similar('trouble', topn=5)"
   ]
  },
  {
   "cell_type": "markdown",
   "metadata": {},
   "source": [
    "# Chunking"
   ]
  },
  {
   "cell_type": "code",
   "execution_count": 5,
   "metadata": {},
   "outputs": [],
   "source": [
    "# Import Library\n",
    "import nltk"
   ]
  },
  {
   "cell_type": "code",
   "execution_count": 6,
   "metadata": {},
   "outputs": [],
   "source": [
    "sentence = [(\"the\", \"DT\"), (\"little\", \"JJ\"), (\"yellow\", \"JJ\"),\n",
    "            (\"dog\", \"NN\"), (\"barked\", \"VBD\"), (\"at\", \"IN\"),  \n",
    "            (\"the\", \"DT\"), (\"cat\", \"NN\")]"
   ]
  },
  {
   "cell_type": "code",
   "execution_count": 7,
   "metadata": {},
   "outputs": [
    {
     "name": "stdout",
     "output_type": "stream",
     "text": [
      "(S\n",
      "  (NP the/DT little/JJ yellow/JJ dog/NN)\n",
      "  barked/VBD\n",
      "  at/IN\n",
      "  (NP the/DT cat/NN))\n"
     ]
    }
   ],
   "source": [
    "grammar = \"NP: {<DT>?<JJ>*<NN>}\"   #Define Regular Expression\n",
    "cp = nltk.RegexpParser(grammar)    #Parse Regular Expression\n",
    "result = cp.parse(sentence)        #Parse the Sentence in Grammar\n",
    "print(result)\n",
    "#result.draw()"
   ]
  },
  {
   "attachments": {
    "image.png": {
     "image/png": "[encoded data removed]"
    }
   },
   "cell_type": "markdown",
   "metadata": {},
   "source": [
    "![image.png](attachment:image.png)"
   ]
  },
  {
   "cell_type": "code",
   "execution_count": 8,
   "metadata": {},
   "outputs": [
    {
     "name": "stdout",
     "output_type": "stream",
     "text": [
      "(S the/DT little/JJ yellow/JJ dog/NN barked/VBD at/IN the/DT cat/NN)\n"
     ]
    }
   ],
   "source": [
    "grammar1 = \"VP: {<PRP>+<VB>+<JJ>?}\"    #Define Regular Expression\n",
    "cp1 = nltk.RegexpParser(grammar1)      #Parse Regular Expression\n",
    "result1 = cp1.parse(sentence)          #Parse the Sentence in Grammar\n",
    "print(result1)\n",
    "#result1.draw()"
   ]
  },
  {
   "attachments": {
    "image.png": {
     "image/png": "[encoded data removed]"
    }
   },
   "cell_type": "markdown",
   "metadata": {},
   "source": [
    "![image.png](attachment:image.png)"
   ]
  },
  {
   "cell_type": "code",
   "execution_count": 9,
   "metadata": {},
   "outputs": [],
   "source": [
    "doc = '''Dhoni also holds numerous captaincy records such as \n",
    "            the most wins by an Indian captain in ODIs and T20Is \n",
    "            and most back-to-back wins by an Indian captain in ODIs.'''"
   ]
  },
  {
   "cell_type": "code",
   "execution_count": 10,
   "metadata": {},
   "outputs": [
    {
     "name": "stdout",
     "output_type": "stream",
     "text": [
      "[('Dhoni', 'NNP'), ('also', 'RB'), ('holds', 'VBZ'), ('numerous', 'JJ'), ('captaincy', 'NN'), ('records', 'NNS'), ('such', 'JJ'), ('as', 'IN'), ('the', 'DT'), ('most', 'RBS'), ('wins', 'NNS'), ('by', 'IN'), ('an', 'DT'), ('Indian', 'JJ'), ('captain', 'NN'), ('in', 'IN'), ('ODIs', 'NNP'), ('and', 'CC'), ('T20Is', 'NNP'), ('and', 'CC'), ('most', 'JJS'), ('back-to-back', 'JJ'), ('wins', 'NNS'), ('by', 'IN'), ('an', 'DT'), ('Indian', 'JJ'), ('captain', 'NN'), ('in', 'IN'), ('ODIs', 'NNP'), ('.', '.')]\n"
     ]
    }
   ],
   "source": [
    "grammar = \"NP: {<DT>?<NN.*>+}\"\n",
    "cp = nltk.RegexpParser(grammar)\n",
    "tokens = nltk.word_tokenize(doc)\n",
    "pos_tags = nltk.pos_tag(tokens)\n",
    "print(pos_tags)"
   ]
  },
  {
   "cell_type": "code",
   "execution_count": 11,
   "metadata": {},
   "outputs": [
    {
     "name": "stdout",
     "output_type": "stream",
     "text": [
      "(S\n",
      "  (NP Dhoni/NNP)\n",
      "  also/RB\n",
      "  holds/VBZ\n",
      "  numerous/JJ\n",
      "  (NP captaincy/NN records/NNS)\n",
      "  such/JJ\n",
      "  as/IN\n",
      "  the/DT\n",
      "  most/RBS\n",
      "  (NP wins/NNS)\n",
      "  by/IN\n",
      "  an/DT\n",
      "  Indian/JJ\n",
      "  (NP captain/NN)\n",
      "  in/IN\n",
      "  (NP ODIs/NNP)\n",
      "  and/CC\n",
      "  (NP T20Is/NNP)\n",
      "  and/CC\n",
      "  most/JJS\n",
      "  back-to-back/JJ\n",
      "  (NP wins/NNS)\n",
      "  by/IN\n",
      "  an/DT\n",
      "  Indian/JJ\n",
      "  (NP captain/NN)\n",
      "  in/IN\n",
      "  (NP ODIs/NNP)\n",
      "  ./.)\n"
     ]
    }
   ],
   "source": [
    "result_lor = cp.parse(pos_tags)\n",
    "print(result_lor)\n",
    "#result_lor.draw()"
   ]
  },
  {
   "attachments": {
    "image.png": {
     "image/png": "[encoded data removed]"
    }
   },
   "cell_type": "markdown",
   "metadata": {},
   "source": [
    "![image.png](attachment:image.png)"
   ]
  },
  {
   "cell_type": "code",
   "execution_count": 12,
   "metadata": {},
   "outputs": [
    {
     "name": "stdout",
     "output_type": "stream",
     "text": [
      "(S\n",
      "  (GPE Dhoni/NNP)\n",
      "  also/RB\n",
      "  holds/VBZ\n",
      "  numerous/JJ\n",
      "  captaincy/NN\n",
      "  records/NNS\n",
      "  such/JJ\n",
      "  as/IN\n",
      "  the/DT\n",
      "  most/RBS\n",
      "  wins/NNS\n",
      "  by/IN\n",
      "  an/DT\n",
      "  (GPE Indian/JJ)\n",
      "  captain/NN\n",
      "  in/IN\n",
      "  (ORGANIZATION ODIs/NNP)\n",
      "  and/CC\n",
      "  (PERSON T20Is/NNP)\n",
      "  and/CC\n",
      "  most/JJS\n",
      "  back-to-back/JJ\n",
      "  wins/NNS\n",
      "  by/IN\n",
      "  an/DT\n",
      "  (GPE Indian/JJ)\n",
      "  captain/NN\n",
      "  in/IN\n",
      "  (ORGANIZATION ODIs/NNP)\n",
      "  ./.)\n"
     ]
    }
   ],
   "source": [
    "chunks = nltk.ne_chunk(pos_tags)\n",
    "print(chunks)\n",
    "chunks.draw()"
   ]
  },
  {
   "attachments": {
    "image.png": {
     "image/png": "[encoded data removed]"
    }
   },
   "cell_type": "markdown",
   "metadata": {},
   "source": [
    "![image.png](attachment:image.png)"
   ]
  },
  {
   "cell_type": "markdown",
   "metadata": {},
   "source": [
    "# Named Entity Recognition"
   ]
  },
  {
   "cell_type": "code",
   "execution_count": 13,
   "metadata": {},
   "outputs": [],
   "source": [
    "article = '''Infosys is going to acquire Simplus, a salesforce consulting company with offices across the US and Australia. \n",
    "The IT company informed the stock exchanges late on Monday that it will pay up to $250 million for the deal.'''"
   ]
  },
  {
   "cell_type": "code",
   "execution_count": 14,
   "metadata": {},
   "outputs": [
    {
     "name": "stdout",
     "output_type": "stream",
     "text": [
      "(S\n",
      "  (GPE Infosys/NNP)\n",
      "  is/VBZ\n",
      "  going/VBG\n",
      "  to/TO\n",
      "  acquire/VB\n",
      "  (PERSON Simplus/NNP)\n",
      "  ,/,\n",
      "  a/DT\n",
      "  salesforce/NN\n",
      "  consulting/VBG\n",
      "  company/NN\n",
      "  with/IN\n",
      "  offices/NNS\n",
      "  across/IN\n",
      "  the/DT\n",
      "  (ORGANIZATION US/NNP)\n",
      "  and/CC\n",
      "  (GPE Australia/NNP)\n",
      "  ./.\n",
      "  The/DT\n",
      "  IT/NNP\n",
      "  company/NN\n",
      "  informed/VBD\n",
      "  the/DT\n",
      "  stock/NN\n",
      "  exchanges/NNS\n",
      "  late/RB\n",
      "  on/IN\n",
      "  Monday/NNP\n",
      "  that/IN\n",
      "  it/PRP\n",
      "  will/MD\n",
      "  pay/VB\n",
      "  up/RP\n",
      "  to/TO\n",
      "  $/$\n",
      "  250/CD\n",
      "  million/CD\n",
      "  for/IN\n",
      "  the/DT\n",
      "  deal/NN\n",
      "  ./.)\n"
     ]
    }
   ],
   "source": [
    "# NER using NLTK\n",
    "\n",
    "tokens = nltk.word_tokenize(article)\n",
    "pos_tags = nltk.pos_tag(tokens)\n",
    "chunks = nltk.ne_chunk(pos_tags)\n",
    "print(chunks)"
   ]
  },
  {
   "cell_type": "code",
   "execution_count": 15,
   "metadata": {},
   "outputs": [],
   "source": [
    "# NER using SPACY\n",
    "\n",
    "import spacy\n",
    "from spacy import displacy\n",
    "nlp = spacy.load(\"en_core_web_sm\")"
   ]
  },
  {
   "cell_type": "code",
   "execution_count": 16,
   "metadata": {
    "scrolled": true
   },
   "outputs": [
    {
     "name": "stdout",
     "output_type": "stream",
     "text": [
      "MONEY ['up to $250 million ']\n",
      "ORG ['Simplus']\n",
      "DATE ['Monday ']\n",
      "GPE ['US ', 'Australia']\n"
     ]
    },
    {
     "data": {
      "text/html": [
       "<span class=\"tex2jax_ignore\"><div class=\"entities\" style=\"line-height: 2.5; direction: ltr\">Infosys is going to acquire \n",
       "<mark class=\"entity\" style=\"background: #7aecec; padding: 0.45em 0.6em; margin: 0 0.25em; line-height: 1; border-radius: 0.35em;\">\n",
       "    Simplus\n",
       "    <span style=\"font-size: 0.8em; font-weight: bold; line-height: 1; border-radius: 0.35em; text-transform: uppercase; vertical-align: middle; margin-left: 0.5rem\">ORG</span>\n",
       "</mark>\n",
       ", a salesforce consulting company with offices across the \n",
       "<mark class=\"entity\" style=\"background: #feca74; padding: 0.45em 0.6em; margin: 0 0.25em; line-height: 1; border-radius: 0.35em;\">\n",
       "    US\n",
       "    <span style=\"font-size: 0.8em; font-weight: bold; line-height: 1; border-radius: 0.35em; text-transform: uppercase; vertical-align: middle; margin-left: 0.5rem\">GPE</span>\n",
       "</mark>\n",
       " and \n",
       "<mark class=\"entity\" style=\"background: #feca74; padding: 0.45em 0.6em; margin: 0 0.25em; line-height: 1; border-radius: 0.35em;\">\n",
       "    Australia\n",
       "    <span style=\"font-size: 0.8em; font-weight: bold; line-height: 1; border-radius: 0.35em; text-transform: uppercase; vertical-align: middle; margin-left: 0.5rem\">GPE</span>\n",
       "</mark>\n",
       ". </br>The IT company informed the stock exchanges late on \n",
       "<mark class=\"entity\" style=\"background: #bfe1d9; padding: 0.45em 0.6em; margin: 0 0.25em; line-height: 1; border-radius: 0.35em;\">\n",
       "    Monday\n",
       "    <span style=\"font-size: 0.8em; font-weight: bold; line-height: 1; border-radius: 0.35em; text-transform: uppercase; vertical-align: middle; margin-left: 0.5rem\">DATE</span>\n",
       "</mark>\n",
       " that it will pay \n",
       "<mark class=\"entity\" style=\"background: #e4e7d2; padding: 0.45em 0.6em; margin: 0 0.25em; line-height: 1; border-radius: 0.35em;\">\n",
       "    up to $250 million\n",
       "    <span style=\"font-size: 0.8em; font-weight: bold; line-height: 1; border-radius: 0.35em; text-transform: uppercase; vertical-align: middle; margin-left: 0.5rem\">MONEY</span>\n",
       "</mark>\n",
       " for the deal.</div></span>"
      ],
      "text/plain": [
       "<IPython.core.display.HTML object>"
      ]
     },
     "metadata": {},
     "output_type": "display_data"
    }
   ],
   "source": [
    "doc = nlp(article)\n",
    "\n",
    "labels = set([w.label_ for w in doc.ents]) \n",
    "for label in labels: \n",
    "    entities = [e.string for e in doc.ents if label==e.label_] \n",
    "    entities = list(set(entities)) \n",
    "    print( label,entities)\n",
    "    \n",
    "displacy.render(doc, style=\"ent\")"
   ]
  },
  {
   "cell_type": "raw",
   "metadata": {},
   "source": [
    "Difference Between NLTK & SPACY Named Entity Recognition\n",
    "\n",
    "text         |  NLTK(NER)      |    SPACY(NER)\n",
    "-----------------------------------------------\n",
    "Infosys      |  GPE            |      ----\n",
    "Simplus      |  PERSON         |      ORG\n",
    "US           |  ORGANIZATION   |      GPE\n",
    "Australia    |  GPE            |      GPE\n",
    "Monday       |  ----           |      DATE\n",
    "$250 million |  ----           |      MONEY\n"
   ]
  }
 ],
 "metadata": {
  "kernelspec": {
   "display_name": "Python 3",
   "language": "python",
   "name": "python3"
  },
  "language_info": {
   "codemirror_mode": {
    "name": "ipython",
    "version": 3
   },
   "file_extension": ".py",
   "mimetype": "text/x-python",
   "name": "python",
   "nbconvert_exporter": "python",
   "pygments_lexer": "ipython3",
   "version": "3.7.4"
  }
 },
 "nbformat": 4,
 "nbformat_minor": 4
}
